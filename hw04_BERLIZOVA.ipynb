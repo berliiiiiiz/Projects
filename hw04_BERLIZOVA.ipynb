{
 "cells": [
  {
   "cell_type": "markdown",
   "id": "gorgeous-position",
   "metadata": {},
   "source": [
    "<center>\n",
    "<img src=\"https://github.com/hse-econ-data-science/andan_2023/blob/main/hw/hw04/images/AB.jpeg?raw=true\" height=\"200\"> \n",
    "\n",
    "# Андан на экономе: домашнее задание 4 \n",
    "## Проверка гипотез и А/Б-тестирование\n",
    "</center>\n",
    "\n",
    "\n",
    "**ФИО: Берлизова Дарья Евгеньевна**\n",
    "\n",
    "**id из контеста: dap_econ_2022_41**"
   ]
  },
  {
   "cell_type": "markdown",
   "id": "developmental-secondary",
   "metadata": {},
   "source": [
    "## Общая информация\n",
    "\n",
    "\n",
    "__Дата выдачи:__ 17.05.2023\n",
    "\n",
    "__Мягкий дедлайн:__ 23:59MSK 09.06.2023\n",
    "\n",
    "__Жесткий дедлайн:__ 23:59MSK 16.06.2023"
   ]
  },
  {
   "cell_type": "markdown",
   "id": "danish-magnet",
   "metadata": {},
   "source": [
    "## Оценивание и штрафы\n",
    "\n",
    "Каждая из задач имеет определенную «стоимость» (указана в скобках около задачи). Максимально допустимая оценка за работу — 100 баллов. За каждый день просрочки после мягкого дедлайна снимается 10 баллов. После жёсткого дедлайна работы не принимаются. Даже при опозданиии на одну секунду. Сдавайте работы заранее.\n",
    "\n",
    "Мягкий дедлайн можно отодвинуть без потери баллов на 1,2 или 3 дня. Суммарно для откладывания в запасе есть три дня. Можно отодвинуть один дедлайн на три дня, а можно три дедлайна подвинуть на один день. Распоряжаться этими днями студент может как угодно. Жёсткий дедлайн, при этом, не меняется. Если такое произошло, нужно сообщить о сдвиге при сдаче работы.\n",
    "\n",
    "Задание выполняется самостоятельно. «Похожие» решения считаются плагиатом и все задействованные студенты (в том числе те, у кого списали) не могут получить за него больше 0 баллов. Если вы нашли решение какого-то из заданий (или его часть) в открытом источнике, необходимо указать ссылку на этот источник (скорее всего вы будете не единственным, кто это нашел, поэтому чтобы исключить подозрение в плагиате, необходима ссылка на источник).\n",
    "\n",
    "Любой из студентов может быть вызван на защиту любого домашнего задания. В таком случае итоговая оценка студента определяется в результате защиты.\n",
    "\n",
    "> За отсутствие названий графиков и подписей к осям могут снижаться баллы. Все картинки должны быть самодостаточны и визуально удобны для восприятия, так чтобы не нужно было смотреть ваш код или знать задание, чтобы понять что на них изображено. \n",
    "\n",
    "> Выводы должны быть релевантными. Не забывайте их писать. Если в вопросе требуется ответ словами, а его нет, вы будете терять довольно много баллов.\n",
    "\n",
    "> Фиксируйте все seed'ы, random_state'ы и тд - ваш код должен быть воспроизводим с теми же результатами."
   ]
  },
  {
   "cell_type": "markdown",
   "id": "reported-builder",
   "metadata": {},
   "source": [
    "## Формат сдачи\n",
    "\n",
    "Сам ноутбук называйте в формате hw-04-USERNAME.ipynb, где USERNAME — ваши фамилия и имя. Файл сдаётся в anytask."
   ]
  },
  {
   "cell_type": "markdown",
   "id": "opening-nowhere",
   "metadata": {},
   "source": [
    "## Импорт необходимых библиотек \n",
    "\n",
    "Импортируйте все используемые библиотеки здесь."
   ]
  },
  {
   "cell_type": "code",
   "execution_count": 1,
   "id": "addressed-african",
   "metadata": {},
   "outputs": [],
   "source": [
    "import pandas as pd \n",
    "import numpy as np\n",
    "import scipy.stats as sts\n",
    "\n",
    "import matplotlib.pyplot as plt\n",
    "import seaborn as sns\n",
    "\n",
    "from collections import defaultdict\n",
    "from math import sqrt"
   ]
  },
  {
   "cell_type": "code",
   "execution_count": 2,
   "id": "stylish-raise",
   "metadata": {},
   "outputs": [],
   "source": [
    "# Отключение некоторых лишних предупреждений\n",
    "import warnings\n",
    "warnings.filterwarnings(\"ignore\")"
   ]
  },
  {
   "cell_type": "code",
   "execution_count": 3,
   "id": "musical-element",
   "metadata": {},
   "outputs": [],
   "source": [
    "sns.set_theme(style=\"whitegrid\", palette=\"muted\")\n",
    "plt.rcParams['figure.figsize'] = (8, 4)"
   ]
  },
  {
   "cell_type": "markdown",
   "id": "destroyed-joining",
   "metadata": {},
   "source": [
    "# Часть 1: Процедура проверки гипотез"
   ]
  },
  {
   "cell_type": "markdown",
   "id": "aging-insulation",
   "metadata": {},
   "source": [
    "Для начала повторим теорию проверки гипотез и поотвечаем на различные вопросы. \n",
    "\n",
    "> Ниже вас ждут несколько примеров гипотез, на которые вам нужно получить статистически значимые ответы. Вы можете пользоваться встроенными функциями тестов, можете писать свои, а можете использовать с семинаров – это не влияет на полученные баллы. Вы также оставляете за собой право выбрать, проверять гипотезу через `p-value` или по критическим точкам или вообще по доверительным интервалам (но здесь будьте осторожнее, особенно, когда у вас 2 выборки). \n",
    "\n",
    "__Здесь важно:__\n",
    "\n",
    "- Правильно посчитать `p-value` либо наблюдаемое значение критерия (либо дов. интервал);\n",
    "- Правильно сделать вывод об отвержении / не отвержении нулевой гипотезы;\n",
    "- Правильно выбрать тест для проверки и обосновать, почему вы выбрали именно его.\n",
    "\n",
    "Гипотезы проверяйте на $5\\%$ уровне значимости"
   ]
  },
  {
   "cell_type": "markdown",
   "id": "prompt-demonstration",
   "metadata": {},
   "source": [
    "## Задача №1: Экзамен"
   ]
  },
  {
   "cell_type": "markdown",
   "id": "concerned-handle",
   "metadata": {},
   "source": [
    "<img src=\"https://github.com/hse-econ-data-science/andan_2023/blob/main/hw/hw04/images/exam.jpeg?raw=true\" width=\"400\" align='left'>"
   ]
  },
  {
   "cell_type": "markdown",
   "id": "fitting-maryland",
   "metadata": {},
   "source": [
    "У вас есть набор данных об оценках студентов на экзамене. Каждая строка в датасете – отдельный студент. Датасет представляет собой следующие колонки:\n",
    "\n",
    "* `gender` – пол\n",
    "* `race/ethnicity` – раса / этническая принадлежность\n",
    "* `parental level of education` – уровень образования\n",
    "* `lunch` – получает ли бесплатные обеды (тип питания)\n",
    "* `test preparation course` – прошел ли курсы по подготовке к тесту\n",
    "* `math score` – баллы за математику\n",
    "* `reading score` – баллы за чтение\n",
    "* `writing score` – баллы за письменность"
   ]
  },
  {
   "cell_type": "code",
   "execution_count": 4,
   "id": "selected-mounting",
   "metadata": {},
   "outputs": [],
   "source": [
    "df = pd.read_csv('students_exam.csv')"
   ]
  },
  {
   "cell_type": "code",
   "execution_count": 5,
   "id": "1aff148a",
   "metadata": {},
   "outputs": [
    {
     "data": {
      "text/html": [
       "<div>\n",
       "<style scoped>\n",
       "    .dataframe tbody tr th:only-of-type {\n",
       "        vertical-align: middle;\n",
       "    }\n",
       "\n",
       "    .dataframe tbody tr th {\n",
       "        vertical-align: top;\n",
       "    }\n",
       "\n",
       "    .dataframe thead th {\n",
       "        text-align: right;\n",
       "    }\n",
       "</style>\n",
       "<table border=\"1\" class=\"dataframe\">\n",
       "  <thead>\n",
       "    <tr style=\"text-align: right;\">\n",
       "      <th></th>\n",
       "      <th>gender</th>\n",
       "      <th>race/ethnicity</th>\n",
       "      <th>parental level of education</th>\n",
       "      <th>lunch</th>\n",
       "      <th>test preparation course</th>\n",
       "      <th>math score</th>\n",
       "      <th>reading score</th>\n",
       "      <th>writing score</th>\n",
       "    </tr>\n",
       "  </thead>\n",
       "  <tbody>\n",
       "    <tr>\n",
       "      <th>0</th>\n",
       "      <td>female</td>\n",
       "      <td>group B</td>\n",
       "      <td>bachelor's degree</td>\n",
       "      <td>standard</td>\n",
       "      <td>none</td>\n",
       "      <td>72</td>\n",
       "      <td>72</td>\n",
       "      <td>74</td>\n",
       "    </tr>\n",
       "    <tr>\n",
       "      <th>1</th>\n",
       "      <td>female</td>\n",
       "      <td>group C</td>\n",
       "      <td>some college</td>\n",
       "      <td>standard</td>\n",
       "      <td>completed</td>\n",
       "      <td>69</td>\n",
       "      <td>90</td>\n",
       "      <td>88</td>\n",
       "    </tr>\n",
       "    <tr>\n",
       "      <th>2</th>\n",
       "      <td>female</td>\n",
       "      <td>group B</td>\n",
       "      <td>master's degree</td>\n",
       "      <td>standard</td>\n",
       "      <td>none</td>\n",
       "      <td>90</td>\n",
       "      <td>95</td>\n",
       "      <td>93</td>\n",
       "    </tr>\n",
       "    <tr>\n",
       "      <th>3</th>\n",
       "      <td>male</td>\n",
       "      <td>group A</td>\n",
       "      <td>associate's degree</td>\n",
       "      <td>free/reduced</td>\n",
       "      <td>none</td>\n",
       "      <td>47</td>\n",
       "      <td>57</td>\n",
       "      <td>44</td>\n",
       "    </tr>\n",
       "    <tr>\n",
       "      <th>4</th>\n",
       "      <td>male</td>\n",
       "      <td>group C</td>\n",
       "      <td>some college</td>\n",
       "      <td>standard</td>\n",
       "      <td>none</td>\n",
       "      <td>76</td>\n",
       "      <td>78</td>\n",
       "      <td>75</td>\n",
       "    </tr>\n",
       "    <tr>\n",
       "      <th>5</th>\n",
       "      <td>female</td>\n",
       "      <td>group B</td>\n",
       "      <td>associate's degree</td>\n",
       "      <td>standard</td>\n",
       "      <td>none</td>\n",
       "      <td>71</td>\n",
       "      <td>83</td>\n",
       "      <td>78</td>\n",
       "    </tr>\n",
       "    <tr>\n",
       "      <th>6</th>\n",
       "      <td>female</td>\n",
       "      <td>group B</td>\n",
       "      <td>some college</td>\n",
       "      <td>standard</td>\n",
       "      <td>completed</td>\n",
       "      <td>88</td>\n",
       "      <td>95</td>\n",
       "      <td>92</td>\n",
       "    </tr>\n",
       "    <tr>\n",
       "      <th>7</th>\n",
       "      <td>male</td>\n",
       "      <td>group B</td>\n",
       "      <td>some college</td>\n",
       "      <td>free/reduced</td>\n",
       "      <td>none</td>\n",
       "      <td>40</td>\n",
       "      <td>43</td>\n",
       "      <td>39</td>\n",
       "    </tr>\n",
       "    <tr>\n",
       "      <th>8</th>\n",
       "      <td>male</td>\n",
       "      <td>group D</td>\n",
       "      <td>high school</td>\n",
       "      <td>free/reduced</td>\n",
       "      <td>completed</td>\n",
       "      <td>64</td>\n",
       "      <td>64</td>\n",
       "      <td>67</td>\n",
       "    </tr>\n",
       "    <tr>\n",
       "      <th>9</th>\n",
       "      <td>female</td>\n",
       "      <td>group B</td>\n",
       "      <td>high school</td>\n",
       "      <td>free/reduced</td>\n",
       "      <td>none</td>\n",
       "      <td>38</td>\n",
       "      <td>60</td>\n",
       "      <td>50</td>\n",
       "    </tr>\n",
       "    <tr>\n",
       "      <th>10</th>\n",
       "      <td>male</td>\n",
       "      <td>group C</td>\n",
       "      <td>associate's degree</td>\n",
       "      <td>standard</td>\n",
       "      <td>none</td>\n",
       "      <td>58</td>\n",
       "      <td>54</td>\n",
       "      <td>52</td>\n",
       "    </tr>\n",
       "    <tr>\n",
       "      <th>11</th>\n",
       "      <td>male</td>\n",
       "      <td>group D</td>\n",
       "      <td>associate's degree</td>\n",
       "      <td>standard</td>\n",
       "      <td>none</td>\n",
       "      <td>40</td>\n",
       "      <td>52</td>\n",
       "      <td>43</td>\n",
       "    </tr>\n",
       "    <tr>\n",
       "      <th>12</th>\n",
       "      <td>female</td>\n",
       "      <td>group B</td>\n",
       "      <td>high school</td>\n",
       "      <td>standard</td>\n",
       "      <td>none</td>\n",
       "      <td>65</td>\n",
       "      <td>81</td>\n",
       "      <td>73</td>\n",
       "    </tr>\n",
       "    <tr>\n",
       "      <th>13</th>\n",
       "      <td>male</td>\n",
       "      <td>group A</td>\n",
       "      <td>some college</td>\n",
       "      <td>standard</td>\n",
       "      <td>completed</td>\n",
       "      <td>78</td>\n",
       "      <td>72</td>\n",
       "      <td>70</td>\n",
       "    </tr>\n",
       "    <tr>\n",
       "      <th>14</th>\n",
       "      <td>female</td>\n",
       "      <td>group A</td>\n",
       "      <td>master's degree</td>\n",
       "      <td>standard</td>\n",
       "      <td>none</td>\n",
       "      <td>50</td>\n",
       "      <td>53</td>\n",
       "      <td>58</td>\n",
       "    </tr>\n",
       "    <tr>\n",
       "      <th>15</th>\n",
       "      <td>female</td>\n",
       "      <td>group C</td>\n",
       "      <td>some high school</td>\n",
       "      <td>standard</td>\n",
       "      <td>none</td>\n",
       "      <td>69</td>\n",
       "      <td>75</td>\n",
       "      <td>78</td>\n",
       "    </tr>\n",
       "    <tr>\n",
       "      <th>16</th>\n",
       "      <td>male</td>\n",
       "      <td>group C</td>\n",
       "      <td>high school</td>\n",
       "      <td>standard</td>\n",
       "      <td>none</td>\n",
       "      <td>88</td>\n",
       "      <td>89</td>\n",
       "      <td>86</td>\n",
       "    </tr>\n",
       "    <tr>\n",
       "      <th>17</th>\n",
       "      <td>female</td>\n",
       "      <td>group B</td>\n",
       "      <td>some high school</td>\n",
       "      <td>free/reduced</td>\n",
       "      <td>none</td>\n",
       "      <td>18</td>\n",
       "      <td>32</td>\n",
       "      <td>28</td>\n",
       "    </tr>\n",
       "    <tr>\n",
       "      <th>18</th>\n",
       "      <td>male</td>\n",
       "      <td>group C</td>\n",
       "      <td>master's degree</td>\n",
       "      <td>free/reduced</td>\n",
       "      <td>completed</td>\n",
       "      <td>46</td>\n",
       "      <td>42</td>\n",
       "      <td>46</td>\n",
       "    </tr>\n",
       "    <tr>\n",
       "      <th>19</th>\n",
       "      <td>female</td>\n",
       "      <td>group C</td>\n",
       "      <td>associate's degree</td>\n",
       "      <td>free/reduced</td>\n",
       "      <td>none</td>\n",
       "      <td>54</td>\n",
       "      <td>58</td>\n",
       "      <td>61</td>\n",
       "    </tr>\n",
       "  </tbody>\n",
       "</table>\n",
       "</div>"
      ],
      "text/plain": [
       "    gender race/ethnicity parental level of education         lunch  \\\n",
       "0   female        group B           bachelor's degree      standard   \n",
       "1   female        group C                some college      standard   \n",
       "2   female        group B             master's degree      standard   \n",
       "3     male        group A          associate's degree  free/reduced   \n",
       "4     male        group C                some college      standard   \n",
       "5   female        group B          associate's degree      standard   \n",
       "6   female        group B                some college      standard   \n",
       "7     male        group B                some college  free/reduced   \n",
       "8     male        group D                 high school  free/reduced   \n",
       "9   female        group B                 high school  free/reduced   \n",
       "10    male        group C          associate's degree      standard   \n",
       "11    male        group D          associate's degree      standard   \n",
       "12  female        group B                 high school      standard   \n",
       "13    male        group A                some college      standard   \n",
       "14  female        group A             master's degree      standard   \n",
       "15  female        group C            some high school      standard   \n",
       "16    male        group C                 high school      standard   \n",
       "17  female        group B            some high school  free/reduced   \n",
       "18    male        group C             master's degree  free/reduced   \n",
       "19  female        group C          associate's degree  free/reduced   \n",
       "\n",
       "   test preparation course  math score  reading score  writing score  \n",
       "0                     none          72             72             74  \n",
       "1                completed          69             90             88  \n",
       "2                     none          90             95             93  \n",
       "3                     none          47             57             44  \n",
       "4                     none          76             78             75  \n",
       "5                     none          71             83             78  \n",
       "6                completed          88             95             92  \n",
       "7                     none          40             43             39  \n",
       "8                completed          64             64             67  \n",
       "9                     none          38             60             50  \n",
       "10                    none          58             54             52  \n",
       "11                    none          40             52             43  \n",
       "12                    none          65             81             73  \n",
       "13               completed          78             72             70  \n",
       "14                    none          50             53             58  \n",
       "15                    none          69             75             78  \n",
       "16                    none          88             89             86  \n",
       "17                    none          18             32             28  \n",
       "18               completed          46             42             46  \n",
       "19                    none          54             58             61  "
      ]
     },
     "execution_count": 5,
     "metadata": {},
     "output_type": "execute_result"
    }
   ],
   "source": [
    "df.head(20)"
   ]
  },
  {
   "cell_type": "markdown",
   "id": "lightweight-astrology",
   "metadata": {},
   "source": [
    "__а)__ __[5 баллов]__  Проверьте гипотезу о том, что студенты, получившие высшее образование (associate's degree, bachelor's degree, master's degree) в среднем пишут математику на большее число баллов, чем студенты со средним образованием (high school, some high school, some college). \n",
    "\n",
    "Уровень значимости: $5\\%$\n",
    "\n",
    "$$\n",
    "\\begin{aligned}\n",
    "& H_0: \\mu_{high} = \\mu_{middle} \\\\\n",
    "& H_1: \\mu_{high} > \\mu_{middle}\n",
    "\\end{aligned}\n",
    "$$\n",
    "\n",
    "__Подсказка:__ В тесте 2 выборки: студенты с высшим образованием и со средним. Подумайте о том, как эти выборки связаны между собой. Также обратите внимание на альтернативную гипотезу!"
   ]
  },
  {
   "cell_type": "markdown",
   "id": "2b61c7b6-51f7-4b4b-9332-c421486388be",
   "metadata": {},
   "source": [
    "**Попробовала Z-test, итоговый критерий Манна-Уитни.**"
   ]
  },
  {
   "cell_type": "code",
   "execution_count": 6,
   "id": "instant-venice",
   "metadata": {},
   "outputs": [],
   "source": [
    "high = [\"associate's degree\", \"bachelor's degree\", \"master's degree\"]\n",
    "middle = [\"high school\", \"some high school\", \"some college\"]\n",
    "math_high = df[df['parental level of education'].isin(high)]['math score']\n",
    "math_middle = df[df['parental level of education'].isin(middle)]['math score']"
   ]
  },
  {
   "cell_type": "code",
   "execution_count": 7,
   "id": "b27b1b76",
   "metadata": {},
   "outputs": [
    {
     "data": {
      "text/plain": [
       "4.309042859193757"
      ]
     },
     "execution_count": 7,
     "metadata": {},
     "output_type": "execute_result"
    }
   ],
   "source": [
    "alpha = 0.05\n",
    "\n",
    "diff = math_high.mean() - math_middle.mean()\n",
    "diff_std = np.sqrt(math_high.var(ddof=1)/math_high.size + math_middle.var(ddof=1)/math_middle.size)\n",
    "z_obs = diff/diff_std\n",
    "z_obs"
   ]
  },
  {
   "cell_type": "code",
   "execution_count": 8,
   "id": "0c6ad4ab",
   "metadata": {},
   "outputs": [
    {
     "data": {
      "text/plain": [
       "(1.959963984540054, 1.639625946497308e-05)"
      ]
     },
     "execution_count": 8,
     "metadata": {},
     "output_type": "execute_result"
    }
   ],
   "source": [
    "z_crit = sts.norm.ppf(1 - alpha/2)\n",
    "pval = 2*sts.norm.cdf(-z_obs)\n",
    "z_crit, pval"
   ]
  },
  {
   "cell_type": "markdown",
   "id": "3c465ebf",
   "metadata": {},
   "source": [
    "Можно заметить, что у распределения длинные хвосты, p-value неправдоподобно мало. В данных есть выбросы, которые завышают среднее значение. Если выбросы сильные, то ЦПТ может ломаться. Из-за этого имеет смысл в данном случае использовать другой критерий, а именно критерий Манна-Уитни."
   ]
  },
  {
   "cell_type": "code",
   "execution_count": 9,
   "id": "f713ced7-57dd-44ee-a543-7c9a0cf8bf28",
   "metadata": {},
   "outputs": [
    {
     "data": {
      "text/plain": [
       "136869.0"
      ]
     },
     "execution_count": 9,
     "metadata": {},
     "output_type": "execute_result"
    }
   ],
   "source": [
    "U, pval = sts.mannwhitneyu(math_high, math_middle, alternative='greater')\n",
    "U"
   ]
  },
  {
   "cell_type": "code",
   "execution_count": 10,
   "id": "cfe291aa",
   "metadata": {},
   "outputs": [
    {
     "data": {
      "text/plain": [
       "7.383101598673211e-05"
      ]
     },
     "execution_count": 10,
     "metadata": {},
     "output_type": "execute_result"
    }
   ],
   "source": [
    "pval"
   ]
  },
  {
   "cell_type": "code",
   "execution_count": 11,
   "id": "158c77c8",
   "metadata": {},
   "outputs": [
    {
     "name": "stdout",
     "output_type": "stream",
     "text": [
      "H0 отвергается\n"
     ]
    }
   ],
   "source": [
    "if pval > alpha:\n",
    "    print('H0 не отвергается')\n",
    "else:\n",
    "    print('H0 отвергается')"
   ]
  },
  {
   "cell_type": "markdown",
   "id": "0a70e632",
   "metadata": {},
   "source": [
    "__Почему вы выбрали для проверки гипотезы именно тот критерий, что вы выбрали? Какие у него предпосылки? Все ли они выполняются с данными?__\n",
    "\n",
    "__Ответ:__ Критерий Манна-Уитни применяется для сравнения выборочных средних для распределений, отличных от нормального, значения которых могут быть ранжированы. Его предпосылки: в каждый из выборок наблюдения независимо одинаково распределенные (студенты независимы между собой) и значения случайных величин могут быть ранжированы (что очевидно для оценок за экзамен), значения в двух выборках похоже распределены, но сдвинуты относительно друг от друга. Нормальность данных можно проверить с помощью соответствующих тестов (есть функция normaltest, использующая тест Пирсона). Гипотеза о нормальности данных отвергается на всех  уровнях значимости, поэтому мы применяем не двухвыборочный t-тест."
   ]
  },
  {
   "cell_type": "code",
   "execution_count": 12,
   "id": "dfbdd3f6-f753-4909-a846-df65ef43e0d4",
   "metadata": {},
   "outputs": [
    {
     "data": {
      "text/plain": [
       "NormaltestResult(statistic=14.130812617486912, pvalue=0.0008541478021277517)"
      ]
     },
     "execution_count": 12,
     "metadata": {},
     "output_type": "execute_result"
    }
   ],
   "source": [
    "sts.normaltest(df[df['parental level of education'].isin(high)]['math score'])"
   ]
  },
  {
   "cell_type": "code",
   "execution_count": 13,
   "id": "635399c6-cbc4-4ec1-bb72-425d2d5613e5",
   "metadata": {},
   "outputs": [
    {
     "data": {
      "text/plain": [
       "NormaltestResult(statistic=26.575138553042123, pvalue=1.6954382829898387e-06)"
      ]
     },
     "execution_count": 13,
     "metadata": {},
     "output_type": "execute_result"
    }
   ],
   "source": [
    "sts.normaltest(df[df['parental level of education'].isin(middle)]['math score'])"
   ]
  },
  {
   "cell_type": "markdown",
   "id": "adequate-lithuania",
   "metadata": {},
   "source": [
    "__б)__ __[5 баллов]__  Правда ли что в среднем студенты пишут экзамен по `reading` так же, как и по `math`? \n",
    "\n",
    "Уровень значимости: $5\\%$\n",
    "\n",
    "$$\n",
    "\\begin{aligned}\n",
    "& H_0: \\mu_{math} = \\mu_{reading} \\\\\n",
    "& H_1: \\mu_{math} \\neq \\mu_{reading}\n",
    "\\end{aligned}\n",
    "$$\n",
    "\n",
    "__Подсказка:__ В тесте 2 выборки: баллы по чтению и баллы по математике. Подумайте о том, как эти выборки связаны между собой. Также обратите внимание на альтернативную гипотезу!"
   ]
  },
  {
   "cell_type": "markdown",
   "id": "c4cc75f5-1c50-48e4-b575-79dc9f205b63",
   "metadata": {},
   "source": [
    "**Использую t-тест для парных выборок.**"
   ]
  },
  {
   "cell_type": "code",
   "execution_count": 14,
   "id": "f56d717f-a579-4bef-89b0-9e110f5e375b",
   "metadata": {},
   "outputs": [
    {
     "data": {
      "text/plain": [
       "-10.816230631665421"
      ]
     },
     "execution_count": 14,
     "metadata": {},
     "output_type": "execute_result"
    }
   ],
   "source": [
    "Z, pval_1 = sts.ttest_rel(df['math score'], df['reading score'])\n",
    "Z"
   ]
  },
  {
   "cell_type": "code",
   "execution_count": 15,
   "id": "02e62ebd",
   "metadata": {},
   "outputs": [
    {
     "data": {
      "text/plain": [
       "7.322335900414138e-26"
      ]
     },
     "execution_count": 15,
     "metadata": {},
     "output_type": "execute_result"
    }
   ],
   "source": [
    "pval_1"
   ]
  },
  {
   "cell_type": "code",
   "execution_count": 16,
   "id": "21dfbbbe",
   "metadata": {},
   "outputs": [
    {
     "name": "stdout",
     "output_type": "stream",
     "text": [
      "H0 отвергается\n"
     ]
    }
   ],
   "source": [
    "if pval_1 > alpha/2:\n",
    "    print('H0 не отвергается')\n",
    "else:\n",
    "    print('H0 отвергается')"
   ]
  },
  {
   "cell_type": "markdown",
   "id": "838d98aa",
   "metadata": {},
   "source": [
    "__Почему вы выбрали для проверки гипотезы именно тот критерий, что вы выбрали? Какие у него предпосылки? Все ли они выполняются с данными?__\n",
    "\n",
    "__Ответ:__ Этот критерий чаще всего применяется для парных нормальных выборок. Предпосылки: все разности баллов для каждого студента независимы между собой и нормально распределены, студенты независимы между собой. Гипотеза о нормальности не отвергается на уровне значимости 1%. "
   ]
  },
  {
   "cell_type": "code",
   "execution_count": 17,
   "id": "efd321a6-4551-4741-8f1b-ef8f6e2ef53b",
   "metadata": {},
   "outputs": [
    {
     "data": {
      "text/plain": [
       "NormaltestResult(statistic=8.742303349488008, pvalue=0.012636678840559183)"
      ]
     },
     "execution_count": 17,
     "metadata": {},
     "output_type": "execute_result"
    }
   ],
   "source": [
    "sts.normaltest(df['math score']- df['reading score'])"
   ]
  },
  {
   "cell_type": "markdown",
   "id": "hidden-seattle",
   "metadata": {},
   "source": [
    "## Задача №2:  О мышах и людях"
   ]
  },
  {
   "cell_type": "markdown",
   "id": "elegant-rates",
   "metadata": {},
   "source": [
    "<img src=\"https://github.com/hse-econ-data-science/andan_2023/blob/main/hw/hw04/images/vagon.jpeg?raw=true\" width=\"400\" align='left'>"
   ]
  },
  {
   "cell_type": "markdown",
   "id": "substantial-regulation",
   "metadata": {},
   "source": [
    "Для изучения аспектов процесса принятия моральных решений психологи уже много лет используют этические дилеммы, с помощью которых оценивают действия людей в гипотетических ситуациях. Один из самых известных примеров — это [проблема вагонетки,](https://ru.wikipedia.org/wiki/Проблема_вагонетки) в которой необходимо принять решение о том, стоит ли пожертвовать одним человеком для спасения пятерых.\n",
    "\n",
    "Бельгийские психологи воплотили дилемму в реальную жизнь. Участники эксперимента должны были выбрать, ударить током пять мышей или одну мышь. Эксперимент проходил следующим образом. Участника сажали перед двумя клетками, в одной из которых сидели пять мышей, а в другой — одна. Перед клетками стоял ноутбук с $20$-секундным таймером: участникам сообщили, что по истечении этих $20$ секунд в клетку с пятью мышами пустят ток, и мыши получат не смертельный, но очень болезненный удар. Пока время идет, участник может нажать на кнопку: в этом случае ток пустят по клетке с одной мышью. В исследовании использовали живых мышей. \n",
    "\n",
    "Удары тока были ненастоящими: сразу же после «удара» участников сопроводили в отдельную комнату, где разъяснили им, что мыши в полном порядке и током их не били (об этом заранее догадались только $12$ участников). В решении реальной проблемы вагонетки приняли участие $192$ человека, а еще $83$ решали такую же задачку, но гипотетическую (на бумаге). Все участники также прошли онлайн-опросы, в ходе которых учёные собрали о респондентах кучу дополнительной информации. \n",
    "\n",
    "В файле `mouse.csv` лежит информация о том, как прошёл эксперимент. Нас будут интересовать столбцы: \n",
    "\n",
    "* __STUDY:__ какую проблему вагонетки решал человек $1$, если на бумаге и $2$, если реальную\n",
    "* __AGE:__ возраст респондента \n",
    "* __GENDER:__ пол респондента\n",
    "* __DECISION:__ решение дилеммы ($1$ - жать на кнопу, $0$ - не жать) \n",
    "* __RT:__ время, которое респондент потратил, чтобы нажать на кнопку \n",
    "\n",
    "Подробное описание данных, сами данные и даже код на R, использованный при оценивании моделей, можно найти в [репозитории исследования.](https://osf.io/kvb99/) В статье авторы строили несколько логистических регрессий, чтобы очистить эффект от психологических особенностей респондентов. Про подобные приёмы очистки мы немного поговорим позже.  Также более подробно про исследование [можно почитать на N + 1.](https://nplus1.ru/news/2018/05/11/mice-trolley)"
   ]
  },
  {
   "cell_type": "code",
   "execution_count": 18,
   "id": "canadian-irish",
   "metadata": {},
   "outputs": [
    {
     "data": {
      "text/html": [
       "<div>\n",
       "<style scoped>\n",
       "    .dataframe tbody tr th:only-of-type {\n",
       "        vertical-align: middle;\n",
       "    }\n",
       "\n",
       "    .dataframe tbody tr th {\n",
       "        vertical-align: top;\n",
       "    }\n",
       "\n",
       "    .dataframe thead th {\n",
       "        text-align: right;\n",
       "    }\n",
       "</style>\n",
       "<table border=\"1\" class=\"dataframe\">\n",
       "  <thead>\n",
       "    <tr style=\"text-align: right;\">\n",
       "      <th></th>\n",
       "      <th>STUDY</th>\n",
       "      <th>AGE</th>\n",
       "      <th>GENDER</th>\n",
       "      <th>DECISION</th>\n",
       "      <th>RT</th>\n",
       "    </tr>\n",
       "  </thead>\n",
       "  <tbody>\n",
       "    <tr>\n",
       "      <th>3</th>\n",
       "      <td>1</td>\n",
       "      <td>21</td>\n",
       "      <td>0</td>\n",
       "      <td>1.0</td>\n",
       "      <td>9.212427</td>\n",
       "    </tr>\n",
       "    <tr>\n",
       "      <th>4</th>\n",
       "      <td>1</td>\n",
       "      <td>20</td>\n",
       "      <td>0</td>\n",
       "      <td>1.0</td>\n",
       "      <td>17.071711</td>\n",
       "    </tr>\n",
       "    <tr>\n",
       "      <th>5</th>\n",
       "      <td>1</td>\n",
       "      <td>21</td>\n",
       "      <td>1</td>\n",
       "      <td>1.0</td>\n",
       "      <td>9.827884</td>\n",
       "    </tr>\n",
       "    <tr>\n",
       "      <th>6</th>\n",
       "      <td>1</td>\n",
       "      <td>23</td>\n",
       "      <td>1</td>\n",
       "      <td>1.0</td>\n",
       "      <td>10.143030</td>\n",
       "    </tr>\n",
       "    <tr>\n",
       "      <th>7</th>\n",
       "      <td>1</td>\n",
       "      <td>20</td>\n",
       "      <td>1</td>\n",
       "      <td>1.0</td>\n",
       "      <td>7.447534</td>\n",
       "    </tr>\n",
       "  </tbody>\n",
       "</table>\n",
       "</div>"
      ],
      "text/plain": [
       "   STUDY  AGE  GENDER  DECISION         RT\n",
       "3      1   21       0       1.0   9.212427\n",
       "4      1   20       0       1.0  17.071711\n",
       "5      1   21       1       1.0   9.827884\n",
       "6      1   23       1       1.0  10.143030\n",
       "7      1   20       1       1.0   7.447534"
      ]
     },
     "execution_count": 18,
     "metadata": {},
     "output_type": "execute_result"
    }
   ],
   "source": [
    "df = pd.read_csv('mouse.csv', sep='\\t')\n",
    "df = df[['STUDY', 'AGE', 'GENDER', 'DECISION', 'RT']]\n",
    "df = df[~df.DECISION.isnull()]\n",
    "df.head()"
   ]
  },
  {
   "cell_type": "markdown",
   "id": "aware-regression",
   "metadata": {},
   "source": [
    "__а)__ __[5 баллов]__ Попытаемся ответить на тот же вопрос, что и исследователи. В какой из двух ситуаций респонденты чаще принимают решение нажать кнопку: в реальной или на бумаге?\n",
    "\n",
    "Уровень значимости: $5\\%$\n",
    "\n",
    "$$\n",
    "\\begin{aligned}\n",
    "&H_0: \\hspace{2mm} p_1 = p_2 \\hspace{2mm} \\text{(На бумаге и в реальности жмут на кнопку одинаково часто)} \\\\\n",
    "&H_1: \\hspace{2mm} p_1 > p_2  \\hspace{2mm} \\text{(На бумаге на кнопку жмут чаще)}\n",
    "\\end{aligned}\n",
    "$$"
   ]
  },
  {
   "cell_type": "markdown",
   "id": "37cbeb54-938f-430a-950b-e8cbf8087fff",
   "metadata": {},
   "source": [
    "**Использую биномиальный тест на разность долей.**"
   ]
  },
  {
   "cell_type": "code",
   "execution_count": 19,
   "id": "regular-action",
   "metadata": {},
   "outputs": [
    {
     "data": {
      "text/plain": [
       "<class 'statsmodels.stats.base.HolderTuple'>\n",
       "statistic = -0.6471065995908296\n",
       "pvalue = 0.7412185228401718\n",
       "compare = 'diff'\n",
       "method = 'agresti-caffo'\n",
       "diff = -0.004496816646606506\n",
       "ratio = 0.5003456471214158\n",
       "odds_ratio = 0.49808550698904225\n",
       "variance = 0.00028589440387091503\n",
       "alternative = 'larger'\n",
       "value = 0\n",
       "tuple = (-0.6471065995908296, 0.7412185228401718)"
      ]
     },
     "execution_count": 19,
     "metadata": {},
     "output_type": "execute_result"
    }
   ],
   "source": [
    "from statsmodels.stats.proportion import test_proportions_2indep\n",
    "p1 = df[df['STUDY'] == 1]['DECISION'].mean()\n",
    "n1 = df[df['STUDY'] == 1]['DECISION'].count()\n",
    "p2 = df[df['STUDY'] == 2]['DECISION'].mean()\n",
    "n2 = df[df['STUDY'] == 2]['DECISION'].count()\n",
    "test_proportions_2indep(p1, n1, p2, n2, alternative='larger')"
   ]
  },
  {
   "cell_type": "markdown",
   "id": "2b27dd65-3674-4eae-90de-df84b4ccb177",
   "metadata": {},
   "source": [
    "p-value больше 5%, нулевая гипотеза не отвергается."
   ]
  },
  {
   "cell_type": "markdown",
   "id": "3f31e7f4",
   "metadata": {},
   "source": [
    "__Почему вы выбрали для проверки гипотезы именно тот критерий, что вы выбрали? Какие у него предпосылки? Все ли они выполняются с данными?__\n",
    "\n",
    "__Ответ:__ Это наиболее распространённый критерий для сравнения пропорций. Он предполагает, что элементы двух выборок получены из биномиального распределения с независимыми и идентичными (внутри выборки). Поскольку исход бинарный, то можно считать, что распределение биномиальное. Решения людей можно считать независимыми. "
   ]
  },
  {
   "cell_type": "markdown",
   "id": "digital-segment",
   "metadata": {},
   "source": [
    "__б)__ __[5 баллов]__  Кровожадные люди быстро берут на себя ответственность за удар мышки током. Будем считать, что кровожадные люди принимают решение менее, чем за пять секунд. Правда ли, что люди по своей природе кровожадные? \n",
    "\n",
    "Уровень значимости: $5\\%$\n",
    "\n",
    "$$\n",
    "\\begin{aligned}\n",
    "&H_0: \\hspace{2mm} \\mu \\le 5 \\hspace{2mm} \\text{(Люди кровожадны)} \\\\\n",
    "&H_1: \\hspace{2mm} \\mu > 5  \\hspace{2mm} \\text{(Люди не кровожадны)}\n",
    "\\end{aligned}\n",
    "$$"
   ]
  },
  {
   "cell_type": "code",
   "execution_count": 20,
   "id": "congressional-stadium",
   "metadata": {},
   "outputs": [
    {
     "data": {
      "text/plain": [
       "12.974895950977869"
      ]
     },
     "execution_count": 20,
     "metadata": {},
     "output_type": "execute_result"
    }
   ],
   "source": [
    "U1, pval_2 = sts.ttest_1samp(df['RT'].dropna(), popmean=5, alternative='greater')\n",
    "U1"
   ]
  },
  {
   "cell_type": "code",
   "execution_count": 21,
   "id": "151a3cec",
   "metadata": {},
   "outputs": [
    {
     "data": {
      "text/plain": [
       "2.7586881778173365e-27"
      ]
     },
     "execution_count": 21,
     "metadata": {},
     "output_type": "execute_result"
    }
   ],
   "source": [
    "pval_2"
   ]
  },
  {
   "cell_type": "code",
   "execution_count": 22,
   "id": "dbf0dd04",
   "metadata": {},
   "outputs": [
    {
     "name": "stdout",
     "output_type": "stream",
     "text": [
      "H0 отвергается\n"
     ]
    }
   ],
   "source": [
    "if pval_2 > alpha:\n",
    "    print('H0 не отвергается')\n",
    "else:\n",
    "    print('H0 отвергается')"
   ]
  },
  {
   "cell_type": "markdown",
   "id": "2083c36f",
   "metadata": {},
   "source": [
    "__Почему вы выбрали для проверки гипотезы именно тот критерий, что вы выбрали? Какие у него предпосылки? Все ли они выполняются с данными?__\n",
    "\n",
    "__Ответ:__ Это наиболее распространённый критерий для тестирования гипотез о среднем генеральной совокупности. В его предпосылки входят независимость и одинаковая распределённость данных. Решения отдельных участников эксперимента можно считать независимыми, результаты можно считать одинаково распределенными."
   ]
  },
  {
   "cell_type": "markdown",
   "id": "8caf4413",
   "metadata": {},
   "source": [
    "## Задача №3:  Парадокс\n",
    "\n",
    "<img src=\"https://github.com/hse-econ-data-science/andan_2023/blob/main/hw/hw04/images/simpson.jpg?raw=true\" width=\"350\" align='left'>"
   ]
  },
  {
   "cell_type": "markdown",
   "id": "106b575e",
   "metadata": {},
   "source": [
    "Помимо решения задач и применения различных функций из библиотек необходимо очень аккуратно работать с данным и понимать, какие действия корректны, а какие нет. Перед вами результаты медицинских исследований: \n",
    "\n",
    "- из $1650$ мужчин, принимавших лекарство, выздоровели $770$, \n",
    "- из $223$ мужчин, не принимавших лекарство, выздоровели $88$,\n",
    "- из $245$ женщин, принимавших лекарство, выздоровели $165$,\n",
    "- из $750$ женщин, не принимавших лекарство женщин, выздоровели $440$.\n",
    "\n",
    "Необходимо найти ответы на следующие вопросы: \n",
    "\n",
    "1. Влияет ли лекарство на мужчин?\n",
    "2. Влияет ли лекарство на женщин? \n",
    "3. Влияет ли лекарство на людей обоих полов в целом?\n",
    "\n",
    "Будем считать, что исследование проводилось методом двойного слепого тестирования. Врач не знал, даёт ли он пациенту плацебо или лекарство, пациент не знал, пьёт ли он плацебо или лекарство. "
   ]
  },
  {
   "cell_type": "markdown",
   "id": "23ecaff0",
   "metadata": {},
   "source": [
    "Запишем данные в табличку. Пусть $A$ — принимавшие лекарство, $\\overline{A}$ — не принимавшие лекарство, $B$ — выздоровевшие, $\\overline{B}$ — не выздоровевшие."
   ]
  },
  {
   "cell_type": "markdown",
   "id": "17dfd35c",
   "metadata": {},
   "source": [
    "<!--<img width=\"60%\" src=\"pics/pic2.png\">-->\n",
    "<table>\n",
    "<tr><td>\n",
    "    \n",
    "|Мужчины| $B$ |  $\\overline{B}$|\n",
    "|--|--|--|\n",
    "|$A$| 770 | 880 |\n",
    "|$\\overline{A}$| 88 | 135 |\n",
    "\n",
    "</td><td>\n",
    "    \n",
    "|Женщины| $B$ |  $\\overline{B}$|\n",
    "|--|--|--|\n",
    "|$A$| 165 | 80 |\n",
    "|$\\overline{A}$| 440 | 310 |\n",
    "\n",
    "</td><td>\n",
    "\n",
    "|Вместе| $B$ |  $\\overline{B}$|\n",
    "|--|--|--|\n",
    "|$A$| 935 | 960 |\n",
    "|$\\overline{A}$| 528 | 445 |\n",
    "\n",
    "</td></tr> </table>"
   ]
  },
  {
   "cell_type": "markdown",
   "id": "3a59b9fb",
   "metadata": {},
   "source": [
    "Для решения задачи воспользуйтесь критерием хи-квадрат Пирсона. Мы его не разбирали на семинарах, однако на курсе матстата он у вас был. Вспомнить как он работает можно [в этом видео.](https://www.youtube.com/watch?v=bws1CB9XZ6E&list=PLCf-cQCe1FRyCcf47wwBlDObNcz4ud2_L&index=10) Посмотреть на код можно [в этом видео.](https://www.youtube.com/watch?v=H3NtBN_o-hk&list=PLCf-cQCe1FRyCcf47wwBlDObNcz4ud2_L&index=12) Тетрадку с кодом можно [найти тут.](https://github.com/FUlyankin/matstat-AB/blob/main/week10_nonparam_bootstrap/04_05_python_kolmogorov_pearson.ipynb)\n",
    "\n",
    "Тест поможет нам понять, есть ли у лекарства какой-то эффект. Применить тест в python помогает функция `chi2_contingency` из пакета `scipy.stats`. Используйте её с параметром `correction=False`."
   ]
  },
  {
   "cell_type": "markdown",
   "id": "122026a5",
   "metadata": {},
   "source": [
    "__а)__ __[5 баллов]__ Давайте попробуем найти ответ на вопрос, есть ли эффект от лекарства для мужчин? "
   ]
  },
  {
   "cell_type": "markdown",
   "id": "f8b0c51e",
   "metadata": {},
   "source": [
    "**Нулевая гипотеза - прием лекарства не влияет на выздоровление мужчин, уровень значимости 5%.**"
   ]
  },
  {
   "cell_type": "markdown",
   "id": "70e0267e",
   "metadata": {},
   "source": [
    "Давайте предварительно посчитаем долю выздровевших мужчин, которые принимали лекарство и долю выздровевших мужчин, которые не принимали лекартсво. Сравните эти доли."
   ]
  },
  {
   "cell_type": "code",
   "execution_count": 23,
   "id": "68fa518b",
   "metadata": {},
   "outputs": [
    {
     "data": {
      "text/plain": [
       "(0.9005847953216374, 0.09941520467836257)"
      ]
     },
     "execution_count": 23,
     "metadata": {},
     "output_type": "execute_result"
    }
   ],
   "source": [
    "healthy_pill_men = 770/(770+85)\n",
    "healthy_nopill_men = 85/(770+85)\n",
    "healthy_pill_men, healthy_nopill_men"
   ]
  },
  {
   "cell_type": "code",
   "execution_count": 24,
   "id": "e31bf8b6",
   "metadata": {},
   "outputs": [
    {
     "data": {
      "text/plain": [
       "9.058823529411764"
      ]
     },
     "execution_count": 24,
     "metadata": {},
     "output_type": "execute_result"
    }
   ],
   "source": [
    "healthy_pill_men / healthy_nopill_men"
   ]
  },
  {
   "cell_type": "markdown",
   "id": "ef5af70f-6f46-45d4-87ae-23cd473d9e06",
   "metadata": {},
   "source": [
    "Доля выздоровевших мужчин, принимавших лекарство, в 9 раз выше чем доля выздоровевших мужчин, которые не принимали лекарство."
   ]
  },
  {
   "cell_type": "markdown",
   "id": "edf20707",
   "metadata": {},
   "source": [
    "Создадим матрицу размера $2 \\times 2.$ Внесём в неё частоты, полученные для мужчин."
   ]
  },
  {
   "cell_type": "code",
   "execution_count": 25,
   "id": "2119e07c",
   "metadata": {},
   "outputs": [],
   "source": [
    "men = np.array([[770,880],[88,135]])"
   ]
  },
  {
   "cell_type": "markdown",
   "id": "18d253fb",
   "metadata": {},
   "source": [
    "Примените тест с параметром `correction=False` и сделайте выводы на уровне значимости $5\\%.$"
   ]
  },
  {
   "cell_type": "code",
   "execution_count": 26,
   "id": "6b4bacfd",
   "metadata": {},
   "outputs": [
    {
     "data": {
      "text/plain": [
       "(4.107854906463222,\n",
       " 0.04268446899604581,\n",
       " 1,\n",
       " array([[755.84623599, 894.15376401],\n",
       "        [102.15376401, 120.84623599]]))"
      ]
     },
     "execution_count": 26,
     "metadata": {},
     "output_type": "execute_result"
    }
   ],
   "source": [
    "sts.chi2_contingency(men, correction=False)"
   ]
  },
  {
   "cell_type": "markdown",
   "id": "5b367957-6c5f-4414-900d-7c0f6b2bd75f",
   "metadata": {},
   "source": [
    "Поскольку p-value меньше 5%, нулевая гипотеза отвергается на 5%-ном уровне значимости. Эффект от лекарства для мужчин есть."
   ]
  },
  {
   "cell_type": "markdown",
   "id": "e6998b09",
   "metadata": {},
   "source": [
    "__б)__ __[10 баллов]__ Сделайте всё то же самое, но руками, без помощи библиотеки."
   ]
  },
  {
   "cell_type": "markdown",
   "id": "f325db07",
   "metadata": {},
   "source": [
    "Для того, чтобы расчитать тестовую стаститику хи-квадрат, нам необходимо найти матрицу ожидаемых частот, такую же, которая у нас получилась в предыдущем пункте в output-е функции `chi2_contingency`. \n",
    "\n",
    "Используя матрицу из предыдущего пункта, посчитайте общее количество испытуемых мужчин."
   ]
  },
  {
   "cell_type": "code",
   "execution_count": 27,
   "id": "6322d435",
   "metadata": {},
   "outputs": [
    {
     "data": {
      "text/plain": [
       "1873"
      ]
     },
     "execution_count": 27,
     "metadata": {},
     "output_type": "execute_result"
    }
   ],
   "source": [
    "men_all = men.sum()\n",
    "men_all"
   ]
  },
  {
   "cell_type": "markdown",
   "id": "47d6015e",
   "metadata": {},
   "source": [
    "Посчитайте отдельно количество испытуемых мужчин, которые принимали лекарство, и которые не принимали его $(n1, n2)$"
   ]
  },
  {
   "cell_type": "code",
   "execution_count": 28,
   "id": "55d487e5",
   "metadata": {},
   "outputs": [],
   "source": [
    "n1 = men[0].sum()\n",
    "n2 = men[1].sum()"
   ]
  },
  {
   "cell_type": "code",
   "execution_count": 29,
   "id": "eaa3360a",
   "metadata": {},
   "outputs": [
    {
     "data": {
      "text/plain": [
       "1650"
      ]
     },
     "execution_count": 29,
     "metadata": {},
     "output_type": "execute_result"
    }
   ],
   "source": [
    "n1"
   ]
  },
  {
   "cell_type": "code",
   "execution_count": 30,
   "id": "26e28ff4",
   "metadata": {},
   "outputs": [
    {
     "data": {
      "text/plain": [
       "223"
      ]
     },
     "execution_count": 30,
     "metadata": {},
     "output_type": "execute_result"
    }
   ],
   "source": [
    "n2"
   ]
  },
  {
   "cell_type": "code",
   "execution_count": 31,
   "id": "23e779d3",
   "metadata": {},
   "outputs": [],
   "source": [
    "men_t = men.T"
   ]
  },
  {
   "cell_type": "markdown",
   "id": "2295031b",
   "metadata": {},
   "source": [
    "Найдите вероятности выздороветь или нет (независимо от группы по приему/не приему лекарства), то есть вероятность попасть в $B$ и $\\overline{B}$ для мужчин."
   ]
  },
  {
   "cell_type": "code",
   "execution_count": 32,
   "id": "c278911c",
   "metadata": {},
   "outputs": [
    {
     "data": {
      "text/plain": [
       "(0.4580886278697277, 0.5419113721302723)"
      ]
     },
     "execution_count": 32,
     "metadata": {},
     "output_type": "execute_result"
    }
   ],
   "source": [
    "p_healthy = men_t[0].sum() / men_all\n",
    "p_nothealthy = men_t[1].sum() / men_all\n",
    "p_healthy, p_nothealthy"
   ]
  },
  {
   "cell_type": "markdown",
   "id": "1386a83c",
   "metadata": {},
   "source": [
    "Расчитайте ожидаемые (теоритические) значения для каждой ячейки матрицы. Для этого перемножьте вероятности из предыдущего пункта со значениями $n_1$ и $n_2$. Полученную матрицу можно сравнить с выводом библиотеки`scipy.stats`, она должна быть идентичной."
   ]
  },
  {
   "cell_type": "code",
   "execution_count": 33,
   "id": "657d33fc",
   "metadata": {},
   "outputs": [
    {
     "data": {
      "text/plain": [
       "array([[755.84623599, 894.15376401],\n",
       "       [102.15376401, 120.84623599]])"
      ]
     },
     "execution_count": 33,
     "metadata": {},
     "output_type": "execute_result"
    }
   ],
   "source": [
    "E = np.array([[p_healthy*n1, p_nothealthy*n1],[p_healthy*n2, p_nothealthy*n2]])\n",
    "E"
   ]
  },
  {
   "cell_type": "markdown",
   "id": "bacaa057",
   "metadata": {},
   "source": [
    "Расчитайте наблюдаемую статистику и найдите `p_value` с помощью `sts.chi2.cdf` с параметром `df=1`.\n",
    "\n",
    "\\begin{equation*} \\chi^2_d = \\sum {\\frac {(O-E)^2}{E}},\\end{equation*}\n",
    "\n",
    "где\n",
    "\n",
    "- $E$ - наши ожидаемые частоты(матрица из предыдущего пукта),\n",
    "- $O$ - наблюдаемы частоты(первоначальная матрица)."
   ]
  },
  {
   "cell_type": "code",
   "execution_count": 34,
   "id": "150a6ab9",
   "metadata": {},
   "outputs": [
    {
     "data": {
      "text/plain": [
       "0.04268446899604583"
      ]
     },
     "execution_count": 34,
     "metadata": {},
     "output_type": "execute_result"
    }
   ],
   "source": [
    "chi2 = ((men - E)**2 / E).sum()\n",
    "p = 1-sts.chi2.cdf(chi2, df=1)\n",
    "p"
   ]
  },
  {
   "cell_type": "markdown",
   "id": "ca9e60ca",
   "metadata": {},
   "source": [
    "__в)__ __[5 баллов]__  Ответьте на вопрос: есть ли эффект от лекарства для женщин? (повторите процедуру пункта а) \n",
    "\n",
    "Как и в предыдущий раз, для начала, посчитайте долю выздровевших женщин, которые принимали лекарство и долю выздровевших женщин, которые не принимали лекартсво. Сравните эти доли."
   ]
  },
  {
   "cell_type": "markdown",
   "id": "15c05e24",
   "metadata": {},
   "source": [
    "**Нулевая гипотеза - прием лекарства не влияет на выздоровление женщин, уровень значимости 5%.**"
   ]
  },
  {
   "cell_type": "code",
   "execution_count": 35,
   "id": "2966cd43",
   "metadata": {},
   "outputs": [
    {
     "data": {
      "text/plain": [
       "(0.2727272727272727, 0.7272727272727273)"
      ]
     },
     "execution_count": 35,
     "metadata": {},
     "output_type": "execute_result"
    }
   ],
   "source": [
    "healthy_pill_women = 165/(165+440)\n",
    "healthy_nopill_women = 440/(165+440)\n",
    "healthy_pill_women, healthy_nopill_women"
   ]
  },
  {
   "cell_type": "code",
   "execution_count": 36,
   "id": "3b327e06",
   "metadata": {},
   "outputs": [
    {
     "data": {
      "text/plain": [
       "2.666666666666667"
      ]
     },
     "execution_count": 36,
     "metadata": {},
     "output_type": "execute_result"
    }
   ],
   "source": [
    "healthy_nopill_women / healthy_pill_women"
   ]
  },
  {
   "cell_type": "markdown",
   "id": "f8959d5c-6a2f-4ca9-a584-e09f5397272e",
   "metadata": {},
   "source": [
    "Доля выздоровевших женщин, не принимавших лекарства, почти в 3 раза выше."
   ]
  },
  {
   "cell_type": "markdown",
   "id": "28f8411d",
   "metadata": {},
   "source": [
    "Создайте матрицу с данными из таблицы по женщинам, примените тест с параметром `correction=False` и сделайте выводы на уровене значимости $5\\%$."
   ]
  },
  {
   "cell_type": "code",
   "execution_count": 37,
   "id": "d66e85fc",
   "metadata": {},
   "outputs": [
    {
     "data": {
      "text/plain": [
       "(5.838444095586957,\n",
       " 0.015679686056826774,\n",
       " 1,\n",
       " array([[148.96984925,  96.03015075],\n",
       "        [456.03015075, 293.96984925]]))"
      ]
     },
     "execution_count": 37,
     "metadata": {},
     "output_type": "execute_result"
    }
   ],
   "source": [
    "women = np.array([[165,80],[440,310]])\n",
    "sts.chi2_contingency(women, correction=False)"
   ]
  },
  {
   "cell_type": "markdown",
   "id": "6e1609f2-ebc0-42dc-bcd0-c429cf8d6815",
   "metadata": {},
   "source": [
    "Поскольку p-value меньше 5%, нулевая гипотеза отвергается на 5%-ном уровне значимости. Эффект от лекарства для женщин есть."
   ]
  },
  {
   "cell_type": "markdown",
   "id": "90f5481f",
   "metadata": {},
   "source": [
    "__г)__ __[5 баллов]__  Ответьте на вопрос: есть ли эффект от лекарства для объединенной группы?"
   ]
  },
  {
   "cell_type": "code",
   "execution_count": 38,
   "id": "76847c6c",
   "metadata": {},
   "outputs": [
    {
     "data": {
      "text/plain": [
       "(6.239588767305169,\n",
       " 0.012492547994073244,\n",
       " 1,\n",
       " array([[966.66143654, 928.33856346],\n",
       "        [496.33856346, 476.66143654]]))"
      ]
     },
     "execution_count": 38,
     "metadata": {},
     "output_type": "execute_result"
    }
   ],
   "source": [
    "people = np.array([[935,960],[528,445]])\n",
    "sts.chi2_contingency(people, correction=False)"
   ]
  },
  {
   "cell_type": "markdown",
   "id": "68ccf6f8-c834-44cf-bf3d-01fa83a959ab",
   "metadata": {},
   "source": [
    "Поскольку p-value меньше 5%, нулевая гипотеза отвергается. Эффект для объединённой группы есть."
   ]
  },
  {
   "cell_type": "markdown",
   "id": "dbc56cb1",
   "metadata": {},
   "source": [
    "Соотносится ли это с результатами по группам мужчин и женщин, взятых отдельно?"
   ]
  },
  {
   "cell_type": "markdown",
   "id": "a5c6fd21-7c8a-4441-962e-a6df0781f0fe",
   "metadata": {},
   "source": [
    "Да, результаты по отвержению нулевой гипотезы совпали."
   ]
  },
  {
   "cell_type": "markdown",
   "id": "8248f6a5",
   "metadata": {},
   "source": [
    "## Что произошло?"
   ]
  },
  {
   "cell_type": "markdown",
   "id": "fba0880d",
   "metadata": {},
   "source": [
    "Если вы все сделали правильно, скорее всего у вас получились противоречивые значимые результаты. Давайте разберемся почему это так.\n",
    "\n",
    "Может произойти такая ситуация, что новое лекарство может оказаться эффективным в каждом из отдельных исследований, на каждой отдельной группе, но объединение результатов укажет на то, что это лекарство либо бесполезно, либо вредно. [Это называется __парадокс Симпсона.__](https://ru.wikipedia.org/wiki/Парадокс_Симпсона) Он довольно часто встречается на практике в разном виде. \n",
    "\n",
    "Проблема здесь в том, что объединять эти выборки просто слив данные вместе — нельзя. Контрольные группы людей, не принимавших лекарство, занимают разный объем от выборок — примерно 12% в случае мужчин и 75% в случае женщин."
   ]
  },
  {
   "cell_type": "markdown",
   "id": "going-combination",
   "metadata": {},
   "source": [
    "# Часть 2: А/Б-тестирование"
   ]
  },
  {
   "cell_type": "markdown",
   "id": "daily-teach",
   "metadata": {},
   "source": [
    "## Задача №4: Не подглядывать!"
   ]
  },
  {
   "cell_type": "markdown",
   "id": "extreme-baghdad",
   "metadata": {},
   "source": [
    "<img src=\"https://github.com/hse-econ-data-science/andan_2023/blob/main/hw/hw04/images/trump.png?raw=true\" width=\"500\" align='left'>"
   ]
  },
  {
   "cell_type": "markdown",
   "id": "simple-customer",
   "metadata": {},
   "source": [
    "На американских выборах 2020 года в некоторых штатах проходила очень конкурентная борьба между кандидатами. По мере подсчета голосов перевес в голосах склонялся то в пользу демократов, то в пользу республиканцев. И вот, в один из таких моментов, когда чаша весов склонилась в пользу республиканцев, Д. Трамп написал в твиттер \"stop the count!\", что означало призыв к остановке подсчета голосов. \n",
    "\n",
    "_Здесь у вас мог возникнуть вопрос, и зачем нам это?_ \n",
    "\n",
    "Ответ очень прост. В этой ситуации всем очевидно, что призыв Трампа не мог быть осуществлен, то есть прерывать подсчет голосов раньше времени кажется довольно глупым способом выявления победителя. И вот абсолютно такой же способ принятия решения есть и в А/Б-тестах, только теперь многим аналитикам он уже кажется не столь очевидным, что приводит к существенным ошибкам в заключении выводов. \n",
    "\n",
    "_Решив эту задачу, мы познакомимся с такой проблемой подробнее и поймем, как не стоит делать, когда вы запускаете А/Б-тест._"
   ]
  },
  {
   "cell_type": "markdown",
   "id": "retained-flash",
   "metadata": {},
   "source": [
    "Чтобы понять, в чем же именно заключается проблема, мы с вами будем проводить симуляции А/Б-тестов. Это когда мы генерируем данные уже со знаниями, как эти данные устроены. А затем, запуская процедуру проверки гипотез над такими симулированными данными, мы будем оценивать, что происходит на практике (при запуске А/Б-теста).\n",
    "\n",
    "На практике же всегда неизвестно, как устроены данные, и проводя А/Б-тест мы пытаемся зафиксировать различия. Еще раз, здесь же мы будем знать об устройстве данных, а затем будем смотреть на поведение А/Б-теста, то есть как будто бы смотреть на тест с обратной стороны. \n",
    "\n",
    "_Перед тем как идти дальше, остановитесь здесь и еще раз зафиксируйте это!_"
   ]
  },
  {
   "cell_type": "markdown",
   "id": "beginning-adventure",
   "metadata": {},
   "source": [
    "__а) [10 баллов]  Подсчет размера выборки для А/Б-теста__\n",
    "\n",
    "Предположим, что вы хотите провести А/Б-тест внутри вашего приложения. Вы выбрали некоторую метрику $X$ – случайную величину из нормального распределения с мат. ожиданием $100$ у.е. и стандартным отклонением $40$ у.е – это ваш бейзлайн (группа А). Рассчитайте, сколько дней вам нужно крутить такой А/Б-тест, если:\n",
    "\n",
    "1. Вы ожидаете получить минимальный размер эффекта в $5$ у.е.;\n",
    "2. Вы хотите зафиксировать ошибку первого рода на уровне $\\alpha=5\\%$, а ошибку второго рода на уровне $\\beta=20\\%$;\n",
    "3. Вы точно знаете, что в группе Б стандартное отклонение метрики составляет $20$ у.е.\n",
    "4. Посещаемость вашего приложения ежедневно составляет $200$ пользователей, и вы готовы раскатить тест на $100\\%$ трафика.\n",
    "\n",
    "Формула для расчета числа наблюдений _для одной группы_:\n",
    "\n",
    "$$\n",
    "n_{\\text{one group}} = \\frac{(\\sigma_A^2 + \\sigma_B^2) \\cdot (z_{1-\\frac{\\alpha}{2}} + z_{1-\\beta})^2}{MDE^2},\n",
    "$$\n",
    "\n",
    "__Подсказка:__ Помните, что после получения общего числа наблюдений вам нужно выразить это в дни! Вы должны получить целое число. Также будьте аккуратны с подсчетом трафика и кол-ва наблюдений – обратите внимание, со скольким числом групп вы работаете!"
   ]
  },
  {
   "cell_type": "code",
   "execution_count": 39,
   "id": "hollywood-psychiatry",
   "metadata": {},
   "outputs": [
    {
     "data": {
      "text/plain": [
       "7.0"
      ]
     },
     "execution_count": 39,
     "metadata": {},
     "output_type": "execute_result"
    }
   ],
   "source": [
    "n_one_group = (40**2 + 20**2)* (sts.norm.ppf(1-0.05/2)+sts.norm.ppf(1-0.2))**2 / 5**2\n",
    "n_all = 2 * n_one_group\n",
    "n_days = n_all // 200 + 1\n",
    "n_days"
   ]
  },
  {
   "cell_type": "markdown",
   "id": "olive-wrong",
   "metadata": {},
   "source": [
    "__б) [25 баллов] Симуляция А/Б-теста__\n",
    "\n",
    "Теперь нам нужно запустить А/Б-тест. Для этого:"
   ]
  },
  {
   "cell_type": "markdown",
   "id": "marked-samuel",
   "metadata": {},
   "source": [
    "1. Сгенерируйте выборку данных из нормального распределения для группы А и Б в конкретный один день. Считайте, что в группе Б математическое ожидание составляет $105$ у.е., то есть с учетом размера вашего минимального ожидаемого эффекта из предыдущего пункта."
   ]
  },
  {
   "cell_type": "code",
   "execution_count": 40,
   "id": "57bedab1-fae7-4f29-ba6d-2c1969eebb9c",
   "metadata": {},
   "outputs": [],
   "source": [
    "#np.random.seed(seed = 42)"
   ]
  },
  {
   "cell_type": "code",
   "execution_count": 52,
   "id": "unlikely-working",
   "metadata": {},
   "outputs": [],
   "source": [
    "A = sts.norm.rvs(size = 100, loc = 100, scale = 40, random_state=42)\n",
    "B = sts.norm.rvs(size = 100, loc = 105, scale = 20, random_state=42)"
   ]
  },
  {
   "cell_type": "markdown",
   "id": "legendary-value",
   "metadata": {},
   "source": [
    "2. Теперь представим, что наш тест был запущен $X$ дней. Напишите функцию, которая за этот период теста собирает в `DataFrame` следующие данные на каждый день теста: \n",
    "    1. среднее метрики в группе А\n",
    "    2. среднее метрики в группе Б\n",
    "    3. p-value, посчитанное с помощью t-test – можно воспользоваться встроенной функцией `scipy.stats.ttest_ind`\n",
    "    \n",
    "    Соберите `DataFrame` для $X=50$.\n",
    "    \n",
    "__Подсказка:__ Среднее для 1-го дня должно считаться по пользователям, пришедших в первый день, для второго дня – по пользователям, пришедшим в первый и второй день и т.д. То есть накопленным итогом за каждый день теста."
   ]
  },
  {
   "cell_type": "code",
   "execution_count": 60,
   "id": "absolute-vegetation",
   "metadata": {},
   "outputs": [],
   "source": [
    "def AB_test(num, MDE=5):\n",
    "    A = np.array([])\n",
    "    B = np.array([])\n",
    "    A_mean = []\n",
    "    B_mean = []\n",
    "    p_value = []\n",
    "    for i in range(num):\n",
    "        A = np.append(A, sts.norm.rvs(size = 100, loc = 100, scale = 40))\n",
    "        B = np.append(B, sts.norm.rvs(size = 100, loc = 100 + MDE, scale = 20))\n",
    "        A_mean.append(A.mean())\n",
    "        B_mean.append(B.mean())\n",
    "        p_value.append(sts.ttest_ind(A,B)[1])\n",
    "    return pd.DataFrame({'День':range(1,num + 1),'A среднее':A_mean, 'B среднее':B_mean, 'p-value':p_value})\n",
    "        "
   ]
  },
  {
   "cell_type": "code",
   "execution_count": 61,
   "id": "2ff58ada-5d7d-4f56-ac88-ce82e5fd5ec9",
   "metadata": {},
   "outputs": [
    {
     "data": {
      "text/html": [
       "<div>\n",
       "<style scoped>\n",
       "    .dataframe tbody tr th:only-of-type {\n",
       "        vertical-align: middle;\n",
       "    }\n",
       "\n",
       "    .dataframe tbody tr th {\n",
       "        vertical-align: top;\n",
       "    }\n",
       "\n",
       "    .dataframe thead th {\n",
       "        text-align: right;\n",
       "    }\n",
       "</style>\n",
       "<table border=\"1\" class=\"dataframe\">\n",
       "  <thead>\n",
       "    <tr style=\"text-align: right;\">\n",
       "      <th></th>\n",
       "      <th>День</th>\n",
       "      <th>A среднее</th>\n",
       "      <th>B среднее</th>\n",
       "      <th>p-value</th>\n",
       "    </tr>\n",
       "  </thead>\n",
       "  <tbody>\n",
       "    <tr>\n",
       "      <th>0</th>\n",
       "      <td>1</td>\n",
       "      <td>105.656238</td>\n",
       "      <td>99.614245</td>\n",
       "      <td>0.169844</td>\n",
       "    </tr>\n",
       "    <tr>\n",
       "      <th>1</th>\n",
       "      <td>2</td>\n",
       "      <td>100.595401</td>\n",
       "      <td>102.088342</td>\n",
       "      <td>0.640350</td>\n",
       "    </tr>\n",
       "    <tr>\n",
       "      <th>2</th>\n",
       "      <td>3</td>\n",
       "      <td>98.747544</td>\n",
       "      <td>103.336307</td>\n",
       "      <td>0.080209</td>\n",
       "    </tr>\n",
       "    <tr>\n",
       "      <th>3</th>\n",
       "      <td>4</td>\n",
       "      <td>99.683948</td>\n",
       "      <td>104.861473</td>\n",
       "      <td>0.021521</td>\n",
       "    </tr>\n",
       "    <tr>\n",
       "      <th>4</th>\n",
       "      <td>5</td>\n",
       "      <td>99.121319</td>\n",
       "      <td>105.088651</td>\n",
       "      <td>0.002966</td>\n",
       "    </tr>\n",
       "  </tbody>\n",
       "</table>\n",
       "</div>"
      ],
      "text/plain": [
       "   День   A среднее   B среднее   p-value\n",
       "0     1  105.656238   99.614245  0.169844\n",
       "1     2  100.595401  102.088342  0.640350\n",
       "2     3   98.747544  103.336307  0.080209\n",
       "3     4   99.683948  104.861473  0.021521\n",
       "4     5   99.121319  105.088651  0.002966"
      ]
     },
     "execution_count": 61,
     "metadata": {},
     "output_type": "execute_result"
    }
   ],
   "source": [
    "df = AB_test(50)\n",
    "df.head()"
   ]
  },
  {
   "cell_type": "markdown",
   "id": "emerging-brooks",
   "metadata": {},
   "source": [
    "3. На основе `DataFrame` из предыдущего пункта постройте график динамики среднего в группе А и в группе Б по дням теста. Отложите вертикальную линию на этом же графике, показывающую кол-во дней, посчитанных в пункте 1. Сделайте эту линию пунктирной и измените цвет, который вам больше нравится."
   ]
  },
  {
   "cell_type": "code",
   "execution_count": 62,
   "id": "smooth-medicaid",
   "metadata": {
    "scrolled": true
   },
   "outputs": [
    {
     "data": {
      "text/plain": [
       "<matplotlib.lines.Line2D at 0x1c3009e3040>"
      ]
     },
     "execution_count": 62,
     "metadata": {},
     "output_type": "execute_result"
    },
    {
     "data": {
      "image/png": "[encoded data removed]",
      "text/plain": [
       "<Figure size 800x400 with 1 Axes>"
      ]
     },
     "metadata": {},
     "output_type": "display_data"
    }
   ],
   "source": [
    "sns.lineplot(x='День', y='A среднее', data=df)\n",
    "sns.lineplot(x='День', y='B среднее', data=df)\n",
    "plt.legend(labels=[\"A среднее\",\"B среднее\"])\n",
    "plt.ylabel('Посещаемость')\n",
    "plt.axvline(9, ls='--', c='purple')"
   ]
  },
  {
   "cell_type": "markdown",
   "id": "accompanied-session",
   "metadata": {},
   "source": [
    "4. На основе `DataFrame` из предыдущего пункта постройте график динамики p-value по дням теста. Отложите вертикальную линию на этом же графике, показывающую кол-во дней, посчитанных в пункте 1. Сделайте эту линию пунктирной и измените цвет, который вам больше нравится. Также отложите горизонтальную линию – ваш уровень значимости $\\alpha$."
   ]
  },
  {
   "cell_type": "code",
   "execution_count": 63,
   "id": "accepting-personal",
   "metadata": {},
   "outputs": [
    {
     "data": {
      "text/plain": [
       "<matplotlib.lines.Line2D at 0x1c300761e20>"
      ]
     },
     "execution_count": 63,
     "metadata": {},
     "output_type": "execute_result"
    },
    {
     "data": {
      "image/png": "[encoded data removed]",
      "text/plain": [
       "<Figure size 800x400 with 1 Axes>"
      ]
     },
     "metadata": {},
     "output_type": "display_data"
    }
   ],
   "source": [
    "sns.lineplot(x='День', y='p-value', data=df)\n",
    "plt.ylabel('p-value')\n",
    "plt.xlabel('День')\n",
    "plt.axvline(7, ls='--', c='purple')\n",
    "plt.axhline(0.05, ls='--', c='springgreen')"
   ]
  },
  {
   "cell_type": "markdown",
   "id": "median-parliament",
   "metadata": {},
   "source": [
    "5. Перегенируруйте шаги 2-4 несколько раз, посмотрев на графики. Что вы видите? Что происходит с p-value в периодах:\n",
    "    1. до кол-ва дней, посчитанных по формуле из п.1\n",
    "    2. в точке кол-ва дней, посчитанных по формуле из п.1\n",
    "    3. после кол-ва дней, посчитанных по формуле из п.1\n",
    "    \n",
    "    Опишите выводы максимально подробно."
   ]
  },
  {
   "cell_type": "markdown",
   "id": "142fb52c-f50b-4a1d-86dd-0ceca17b260f",
   "metadata": {},
   "source": [
    "A. Ведёт себя хаотически, в некоторых случаях растёт, в некоторых случаях убывает, нулевая гипотеза то выполняется, то не выполняется, значения максимально колеблются.\n",
    "\n",
    "B. В этой точке в большинстве случаев p-value убывает, начинает убывать, или уже активно стремится к 0.\n",
    "\n",
    "C. p-value убывает, стремится к 0 во всех случаях, но разброс максимально разный."
   ]
  },
  {
   "cell_type": "markdown",
   "id": "recognized-entrance",
   "metadata": {},
   "source": [
    "6. Теперь предположим, что мы поменяли наш $MDE$ до $1$ у.е. То есть мат. ожидание в группе А осталось по-прежнему $100$, а вот в группе Б теперь $101$. Перегенерируйте пункты 2-4 для измененного $MDE$, при этом кол-во дней в п.1 не пересчитывайте. Что происходит с p-value? Сделайте выводы."
   ]
  },
  {
   "cell_type": "code",
   "execution_count": 69,
   "id": "younger-person",
   "metadata": {},
   "outputs": [
    {
     "data": {
      "text/plain": [
       "<matplotlib.lines.Line2D at 0x1c301fe6370>"
      ]
     },
     "execution_count": 69,
     "metadata": {},
     "output_type": "execute_result"
    },
    {
     "data": {
      "image/png": "[encoded data removed]",
      "text/plain": [
       "<Figure size 800x400 with 1 Axes>"
      ]
     },
     "metadata": {},
     "output_type": "display_data"
    }
   ],
   "source": [
    "df1 = AB_test(50, MDE=1)\n",
    "sns.lineplot(x='День', y='A среднее', data=df1)\n",
    "sns.lineplot(x='День', y='B среднее', data=df1)\n",
    "plt.legend(labels=[\"A среднее\",\"B среднее\"])\n",
    "plt.ylabel('Посещаемость')\n",
    "plt.axvline(7, ls='--', c='purple')"
   ]
  },
  {
   "cell_type": "code",
   "execution_count": 70,
   "id": "73a4849e-fa31-4845-bb14-807f8a06e4b9",
   "metadata": {},
   "outputs": [
    {
     "data": {
      "text/plain": [
       "<matplotlib.lines.Line2D at 0x1c301fd9dc0>"
      ]
     },
     "execution_count": 70,
     "metadata": {},
     "output_type": "execute_result"
    },
    {
     "data": {
      "image/png": "[encoded data removed]",
      "text/plain": [
       "<Figure size 800x400 with 1 Axes>"
      ]
     },
     "metadata": {},
     "output_type": "display_data"
    }
   ],
   "source": [
    "sns.lineplot(x='День', y='p-value', data=df1)\n",
    "plt.ylabel('p-value')\n",
    "plt.axvline(7, ls='--', c='purple')\n",
    "plt.axhline(0.05, ls='--', c='springgreen')"
   ]
  },
  {
   "cell_type": "markdown",
   "id": "ffe23365-214b-4675-838c-cf0703d6a618",
   "metadata": {},
   "source": [
    "p-value не сходится к 0 так же быстро, как в предыдщуем случае, в большинстве случаев она даже растет, тренд противоположный. Очевидно, того количества дней, которого было достаточно для MDE=5, недостаточно для MDE=1."
   ]
  },
  {
   "cell_type": "markdown",
   "id": "appropriate-prairie",
   "metadata": {},
   "source": [
    "__с) [20баллов] Симуляция А/А-теста__\n",
    "\n",
    "Теперь представим, что изменений на самом деле никаких нету, то есть мат. ожидание в обоих группах $100$, а $MDE = 0$"
   ]
  },
  {
   "cell_type": "markdown",
   "id": "veterinary-stanford",
   "metadata": {},
   "source": [
    "1. И снова перегенерируйте вышесделанные пункты 2-4. Что происходит с p-value? Может ли оно оказаться ниже уровня значимости? "
   ]
  },
  {
   "cell_type": "code",
   "execution_count": 79,
   "id": "advance-library",
   "metadata": {},
   "outputs": [
    {
     "data": {
      "text/plain": [
       "<matplotlib.lines.Line2D at 0x1c302d1caf0>"
      ]
     },
     "execution_count": 79,
     "metadata": {},
     "output_type": "execute_result"
    },
    {
     "data": {
      "image/png": "[encoded data removed]",
      "text/plain": [
       "<Figure size 800x400 with 1 Axes>"
      ]
     },
     "metadata": {},
     "output_type": "display_data"
    }
   ],
   "source": [
    "df2 = AB_test(50, MDE=0)\n",
    "sns.lineplot(x='День', y='A среднее', data=df2)\n",
    "sns.lineplot(x='День', y='B среднее', data=df2)\n",
    "plt.legend(labels=[\"A среднее\",\"B среднее\"])\n",
    "plt.ylabel('Посещаемость')\n",
    "plt.axvline(7, ls='--', c='purple')"
   ]
  },
  {
   "cell_type": "code",
   "execution_count": 80,
   "id": "fd5bb007-6efb-4c28-800f-3c39c477f002",
   "metadata": {},
   "outputs": [
    {
     "data": {
      "text/plain": [
       "<matplotlib.lines.Line2D at 0x1c302a90550>"
      ]
     },
     "execution_count": 80,
     "metadata": {},
     "output_type": "execute_result"
    },
    {
     "data": {
      "image/png": "[encoded data removed]",
      "text/plain": [
       "<Figure size 800x400 with 1 Axes>"
      ]
     },
     "metadata": {},
     "output_type": "display_data"
    }
   ],
   "source": [
    "sns.lineplot(x='День', y='p-value', data=df2)\n",
    "plt.ylabel('p-value')\n",
    "plt.axvline(7, ls='--', c='purple')\n",
    "plt.axhline(0.05, ls='--', c='springgreen')"
   ]
  },
  {
   "cell_type": "markdown",
   "id": "bab5c7bc-f6d8-4f1f-b414-137eff6ab64e",
   "metadata": {},
   "source": [
    "После некоторых колебаний в начале, p-value при большинстве попыткок после 7 дня стабильно выше уровня значимости. Колебания есть только в течение нескольких первых дней."
   ]
  },
  {
   "cell_type": "markdown",
   "id": "seasonal-relations",
   "metadata": {},
   "source": [
    "2. Ну и напоследок, напишите функцию, которая генерирует p-value на последний день A/A теста. А затем запустите эту функцию $1000$ раз, собрав $1000$ значений p-value. Постройте гистограмму их распределения. Что вы видите? \n",
    "\n",
    "__Подсказка:__ Для такой функции достаточно создать выборку один раз, изменив ее размер."
   ]
  },
  {
   "cell_type": "code",
   "execution_count": 50,
   "id": "verbal-experience",
   "metadata": {},
   "outputs": [],
   "source": [
    "P_value_AA = []\n",
    "for i in range(1000):\n",
    "    A = sts.norm.rvs(size=50, loc=100, scale = 40)\n",
    "    B = sts.norm.rvs(size=50, loc=100, scale = 20)\n",
    "    P_value_AA.append(sts.ttest_ind(A, B)[1])"
   ]
  },
  {
   "cell_type": "code",
   "execution_count": 51,
   "id": "a3ca3e29-1be8-4834-8419-5245d05b336d",
   "metadata": {},
   "outputs": [
    {
     "data": {
      "text/plain": [
       "Text(0, 0.5, 'Количество')"
      ]
     },
     "execution_count": 51,
     "metadata": {},
     "output_type": "execute_result"
    },
    {
     "data": {
      "image/png": "[encoded data removed]",
      "text/plain": [
       "<Figure size 800x400 with 1 Axes>"
      ]
     },
     "metadata": {},
     "output_type": "display_data"
    }
   ],
   "source": [
    "sns.histplot(P_value_AA)\n",
    "plt.xlabel('p-value')\n",
    "plt.ylabel('Количество')"
   ]
  },
  {
   "cell_type": "markdown",
   "id": "32d3687f-e42e-4eb7-8945-5ba7a4d2b5df",
   "metadata": {},
   "source": [
    "Мы видим, что p-value имеет приближенно равномерное распределение от 0 до 1"
   ]
  }
 ],
 "metadata": {
  "kernelspec": {
   "display_name": "Python 3 (ipykernel)",
   "language": "python",
   "name": "python3"
  },
  "language_info": {
   "codemirror_mode": {
    "name": "ipython",
    "version": 3
   },
   "file_extension": ".py",
   "mimetype": "text/x-python",
   "name": "python",
   "nbconvert_exporter": "python",
   "pygments_lexer": "ipython3",
   "version": "3.9.13"
  }
 },
 "nbformat": 4,
 "nbformat_minor": 5
}
